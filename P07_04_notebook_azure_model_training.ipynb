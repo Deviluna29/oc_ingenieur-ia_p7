{
  "cells": [
    {
      "cell_type": "markdown",
      "metadata": {
        "nteract": {
          "transient": {
            "deleting": false
          }
        }
      },
      "source": [
        "## Entraînement du modèle sur Azure Machine Learning\n",
        "\n",
        "(Ce notebook est à utiliser sur Azure Machine Learning)\n",
        "\n",
        "On va ici entraîner le meilleur modèle que l'on a sélectionné lors des tests en local.\n",
        "\n",
        "On upload le jeu de données, et on va l'utiliser dans son entièreté pour entraîner le modèle et obtenir la meilleure précision possible."
      ]
    },
    {
      "cell_type": "code",
      "execution_count": 34,
      "metadata": {
        "gather": {
          "logged": 1655140235247
        },
        "jupyter": {
          "outputs_hidden": false,
          "source_hidden": false
        },
        "nteract": {
          "transient": {
            "deleting": false
          }
        }
      },
      "outputs": [
        {
          "name": "stdout",
          "output_type": "stream",
          "text": [
            "Azure ML SDK Version:  1.42.0\n"
          ]
        }
      ],
      "source": [
        "from azureml.core import Workspace, Environment\n",
        "\n",
        "import pandas as pd\n",
        "import numpy as np\n",
        "import matplotlib.pyplot as plt\n",
        "\n",
        "from sklearn.model_selection import train_test_split\n",
        "import joblib\n",
        "\n",
        "import azureml.core\n",
        "from azureml.core import Workspace\n",
        "\n",
        "# check core SDK version number\n",
        "print(\"Azure ML SDK Version: \", azureml.core.VERSION)"
      ]
    },
    {
      "cell_type": "markdown",
      "metadata": {
        "nteract": {
          "transient": {
            "deleting": false
          }
        }
      },
      "source": [
        "## Connexion au workspace\n",
        "\n",
        "Créer un objet workpsace à partir du workspace existant."
      ]
    },
    {
      "cell_type": "code",
      "execution_count": 12,
      "metadata": {
        "gather": {
          "logged": 1655111926235
        },
        "jupyter": {
          "outputs_hidden": false,
          "source_hidden": false
        },
        "nteract": {
          "transient": {
            "deleting": false
          }
        }
      },
      "outputs": [
        {
          "name": "stdout",
          "output_type": "stream",
          "text": [
            "projet_7\twesteurope\topenclassrooms\n"
          ]
        }
      ],
      "source": [
        "# load workspace configuration from the config.json file in the current folder.\n",
        "ws = Workspace.from_config()\n",
        "print(ws.name, ws.location, ws.resource_group, sep='\\t')"
      ]
    },
    {
      "cell_type": "markdown",
      "metadata": {
        "nteract": {
          "transient": {
            "deleting": false
          }
        }
      },
      "source": [
        "## Création d'une \"experiment\"\n",
        "\n",
        "Cela sert à traquer et enregistrer ce qu'il se passe durant l'entraînement du modèle\n"
      ]
    },
    {
      "cell_type": "code",
      "execution_count": 13,
      "metadata": {
        "gather": {
          "logged": 1655111929075
        },
        "jupyter": {
          "outputs_hidden": false,
          "source_hidden": false
        },
        "nteract": {
          "transient": {
            "deleting": false
          }
        }
      },
      "outputs": [],
      "source": [
        "from azureml.core import Experiment\n",
        "experiment = Experiment(workspace=ws, name=\"tweets-experiment\")"
      ]
    },
    {
      "cell_type": "markdown",
      "metadata": {
        "nteract": {
          "transient": {
            "deleting": false
          }
        }
      },
      "source": [
        "## Récupération du jeu de données"
      ]
    },
    {
      "cell_type": "code",
      "execution_count": 14,
      "metadata": {
        "gather": {
          "logged": 1655111941091
        },
        "jupyter": {
          "outputs_hidden": false,
          "source_hidden": false
        },
        "nteract": {
          "transient": {
            "deleting": false
          }
        }
      },
      "outputs": [
        {
          "data": {
            "text/html": [
              "<div>\n",
              "<style scoped>\n",
              "    .dataframe tbody tr th:only-of-type {\n",
              "        vertical-align: middle;\n",
              "    }\n",
              "\n",
              "    .dataframe tbody tr th {\n",
              "        vertical-align: top;\n",
              "    }\n",
              "\n",
              "    .dataframe thead th {\n",
              "        text-align: right;\n",
              "    }\n",
              "</style>\n",
              "<table border=\"1\" class=\"dataframe\">\n",
              "  <thead>\n",
              "    <tr style=\"text-align: right;\">\n",
              "      <th></th>\n",
              "      <th>target</th>\n",
              "    </tr>\n",
              "  </thead>\n",
              "  <tbody>\n",
              "    <tr>\n",
              "      <th>count</th>\n",
              "      <td>1.581466e+06</td>\n",
              "    </tr>\n",
              "    <tr>\n",
              "      <th>mean</th>\n",
              "      <td>5.003465e-01</td>\n",
              "    </tr>\n",
              "    <tr>\n",
              "      <th>std</th>\n",
              "      <td>5.000000e-01</td>\n",
              "    </tr>\n",
              "    <tr>\n",
              "      <th>min</th>\n",
              "      <td>0.000000e+00</td>\n",
              "    </tr>\n",
              "    <tr>\n",
              "      <th>25%</th>\n",
              "      <td>0.000000e+00</td>\n",
              "    </tr>\n",
              "    <tr>\n",
              "      <th>50%</th>\n",
              "      <td>1.000000e+00</td>\n",
              "    </tr>\n",
              "    <tr>\n",
              "      <th>75%</th>\n",
              "      <td>1.000000e+00</td>\n",
              "    </tr>\n",
              "    <tr>\n",
              "      <th>max</th>\n",
              "      <td>1.000000e+00</td>\n",
              "    </tr>\n",
              "  </tbody>\n",
              "</table>\n",
              "</div>"
            ],
            "text/plain": [
              "             target\n",
              "count  1.581466e+06\n",
              "mean   5.003465e-01\n",
              "std    5.000000e-01\n",
              "min    0.000000e+00\n",
              "25%    0.000000e+00\n",
              "50%    1.000000e+00\n",
              "75%    1.000000e+00\n",
              "max    1.000000e+00"
            ]
          },
          "execution_count": 14,
          "metadata": {},
          "output_type": "execute_result"
        }
      ],
      "source": [
        "# Charger les données depuis le fichier csv\n",
        "data = pd.read_csv('data/training.1600000.processed.noemoticon.csv', sep=',', encoding = \"ISO-8859-1\", header=None, names=['target', 'id', 'date', 'flag', 'user', 'text'])\n",
        "\n",
        "# Ne garder que les colonnes nécessaires\n",
        "data = data[[\"text\", \"target\"]]\n",
        "\n",
        "# On supprime les tweets en doublons\n",
        "data.drop_duplicates(subset=['text'], inplace=True)\n",
        "\n",
        "# Remplacer les valeurs par les vrais labels\n",
        "data['target'] = data['target'].map(\n",
        "    {\n",
        "        0: \"NEGATIF\",\n",
        "        4: \"POSITIF\"\n",
        "    }\n",
        ")\n",
        "\n",
        "# Binarize target\n",
        "data['target'] = data['target'].map(\n",
        "    {\n",
        "        \"NEGATIF\": 0,\n",
        "        \"POSITIF\": 1,\n",
        "    }\n",
        ")\n",
        "\n",
        "data.describe()"
      ]
    },
    {
      "cell_type": "markdown",
      "metadata": {
        "nteract": {
          "transient": {
            "deleting": false
          }
        }
      },
      "source": [
        "## Séparation en jeu d'entraînement et jeu de test"
      ]
    },
    {
      "cell_type": "code",
      "execution_count": 29,
      "metadata": {
        "gather": {
          "logged": 1655113923852
        },
        "jupyter": {
          "outputs_hidden": false,
          "source_hidden": false
        },
        "nteract": {
          "transient": {
            "deleting": false
          }
        }
      },
      "outputs": [],
      "source": [
        "X = data['text']\n",
        "y = data['target']\n",
        "\n",
        "# Train-test split\n",
        "X_train, X_test, y_train, y_test = train_test_split(\n",
        "    X,\n",
        "    y,\n",
        "    test_size=0.2,\n",
        "    stratify=y,\n",
        "    random_state=42,\n",
        ")"
      ]
    },
    {
      "cell_type": "markdown",
      "metadata": {
        "nteract": {
          "transient": {
            "deleting": false
          }
        }
      },
      "source": [
        "## Création et entraînement du modèle (Modèle de Deep Learning - bidirectionnal LSTM)\n",
        "\n",
        "On crée ici le modèle, on l'entraîne avec le jeu d'entraînement.\n",
        "\n",
        "On récupère certaines métriques puis on sauvegarde le modèle dans un fichier .pkl\n"
      ]
    },
    {
      "cell_type": "code",
      "execution_count": 31,
      "metadata": {
        "gather": {
          "logged": 1655120096851
        },
        "jupyter": {
          "outputs_hidden": false,
          "source_hidden": false
        },
        "nteract": {
          "transient": {
            "deleting": false
          }
        }
      },
      "outputs": [
        {
          "name": "stdout",
          "output_type": "stream",
          "text": [
            "Epoch 1/10\n",
            "7908/7908 [==============================] - 1129s 142ms/step - loss: 0.4270 - accuracy: 0.8021 - ROC_AUC: 0.8845 - AP: 0.8846 - val_loss: 0.3999 - val_accuracy: 0.8169 - val_ROC_AUC: 0.8998 - val_AP: 0.9011\b\b\b\b\b\b\b\b\b\b\b\b\b\b\b\b\b\b\b\b\b\b\b\b\b\b\b\b\b\b\b\b\b\b\b\b\b\b\b\n",
            "Epoch 2/10\n",
            "7908/7908 [==============================] - 1116s 141ms/step - loss: 0.3885 - accuracy: 0.8237 - ROC_AUC: 0.9057 - AP: 0.9064 - val_loss: 0.3892 - val_accuracy: 0.8232 - val_ROC_AUC: 0.9056 - val_AP: 0.9066\b\b\b\b\b\b\b\b\b\b\b\b\b\b\b\b\b\b\b\b\b\b\b\b\b\b\b\b\b\b\b\b\b\n",
            "Epoch 3/10\n",
            "7908/7908 [==============================] - 1124s 142ms/step - loss: 0.3708 - accuracy: 0.8334 - ROC_AUC: 0.9145 - AP: 0.9154 - val_loss: 0.3844 - val_accuracy: 0.8259 - val_ROC_AUC: 0.9080 - val_AP: 0.9090\b\b\b\b\b\b\b\b\b\b\b\b\b\b\b\b\b\b\b\b\b\b\b\b\b\b\b\b\b\b\b\b\b\n",
            "Epoch 4/10\n",
            "7908/7908 [==============================] - 1155s 146ms/step - loss: 0.3564 - accuracy: 0.8406 - ROC_AUC: 0.9213 - AP: 0.9223 - val_loss: 0.3857 - val_accuracy: 0.8265 - val_ROC_AUC: 0.9081 - val_AP: 0.9085\b\b\b\b\b\b\b\b\b\b\b\b\b\b\b\b\b\b\b\b\b\b\b\b\b\b\b\b\b\b\b\b\b\n",
            "Epoch 5/10\n",
            "7908/7908 [==============================] - 1229s 155ms/step - loss: 0.3435 - accuracy: 0.8477 - ROC_AUC: 0.9271 - AP: 0.9283 - val_loss: 0.3879 - val_accuracy: 0.8262 - val_ROC_AUC: 0.9077 - val_AP: 0.9084\b\b\b\b\b\b\b\b\b\b\b\b\b\b\b\b\b\b\b\b\b\b\b\b\b\b\b\b\b\b\b\b\b\n",
            "9885/9885 [==============================] - 139s 14ms/step - loss: 0.3892 - accuracy: 0.8256 - ROC_AUC: 0.9071 - AP: 0.9074\b\b\b\b\b\b\b\b\b\b\b\b\b\b\b\b\b\b\b\b\b\b\b\b\b\b\b\b\b\b\b\b\b\b\b\b\b\b\b\b\b\b\b\b\b\b\b\b\b\b\b\b\b\b\b\b\b\b\b\b\b\b\b\b\b\b\b\b\b\b\b\b\b\b\b\b\b\b\b\b\b\b\b\b\b\b\b\b\b\b\b\b\b\b\b\b\b\b\b\b\b\b\b\b\b\b\b\b\b\b\b\b\b\b\n",
            "INFO:tensorflow:Assets written to: ram://dd18d8f4-db63-4f81-85e1-3394ed3939b9/assets\n"
          ]
        },
        {
          "name": "stderr",
          "output_type": "stream",
          "text": [
            "INFO:tensorflow:Assets written to: ram://e55bd5af-004c-43da-8cb3-fe74b8c36844/assets\n",
            "WARNING:absl:<keras.layers.recurrent.LSTMCell object at 0x7f14b2a272e0> has the same name 'LSTMCell' as a built-in Keras object. Consider renaming <class 'keras.layers.recurrent.LSTMCell'> to avoid naming conflicts when loading with `tf.keras.models.load_model`. If renaming is not possible, pass the object in the `custom_objects` parameter of the load function.\n",
            "WARNING:absl:<keras.layers.recurrent.LSTMCell object at 0x7f14b2412610> has the same name 'LSTMCell' as a built-in Keras object. Consider renaming <class 'keras.layers.recurrent.LSTMCell'> to avoid naming conflicts when loading with `tf.keras.models.load_model`. If renaming is not possible, pass the object in the `custom_objects` parameter of the load function.\n",
            "WARNING:absl:Found untraced functions such as lstm_cell_10_layer_call_fn, lstm_cell_10_layer_call_and_return_conditional_losses, lstm_cell_11_layer_call_fn, lstm_cell_11_layer_call_and_return_conditional_losses while saving (showing 4 of 4). These functions will not be directly callable after loading.\n"
          ]
        }
      ],
      "source": [
        "# create the model\n",
        "from keras.preprocessing.text import Tokenizer\n",
        "from keras.preprocessing.sequence import pad_sequences\n",
        "from keras.layers import Input, Embedding, Dense, Dropout, LSTM, Flatten, Bidirectional, TextVectorization, Activation\n",
        "from keras.models import Sequential, load_model\n",
        "from keras.callbacks import TensorBoard, EarlyStopping\n",
        "from keras.metrics import AUC\n",
        "import tensorflow as tf\n",
        "\n",
        "model_name = \"bidirectional_lstm\"\n",
        "max_features = 10000\n",
        "sequence_length = 30\n",
        "embedding_dim = 100\n",
        "rnn_units = 100\n",
        "\n",
        "run = experiment.start_logging()\n",
        "\n",
        "# Define vectorizer\n",
        "vectorize_layer = TextVectorization(\n",
        "        output_mode=\"int\",\n",
        "        max_tokens=max_features,\n",
        "        output_sequence_length=sequence_length,\n",
        "    )\n",
        "vectorize_layer.adapt(\n",
        "        X,\n",
        "        batch_size=128,\n",
        "    )\n",
        "\n",
        "# define NN model\n",
        "model = Sequential(name=model_name)\n",
        "model.add(Input(shape=(1,), dtype=tf.string))\n",
        "model.add(vectorize_layer)\n",
        "\n",
        "# Embedding layer\n",
        "model.add(\n",
        "        Embedding(\n",
        "            max_features,\n",
        "            embedding_dim,\n",
        "            input_length=sequence_length,\n",
        "        )\n",
        "    )\n",
        "\n",
        "# Bidirectional LSTM layer\n",
        "model.add(Bidirectional(LSTM(units=rnn_units, dropout=0.2)))\n",
        "\n",
        "# Dense layers\n",
        "model.add(Dense(100, input_shape=(max_features,), activation=\"relu\"))\n",
        "model.add(Dropout(0.2))\n",
        "model.add(Dense(10, activation=\"relu\"))\n",
        "\n",
        "# Classification layer\n",
        "model.add(Dense(1, activation=\"sigmoid\"))\n",
        "\n",
        "# compile NN network\n",
        "model.compile(\n",
        "        loss=\"binary_crossentropy\",\n",
        "        optimizer=\"adam\",\n",
        "        metrics=[\n",
        "            \"accuracy\",\n",
        "            AUC(curve=\"ROC\", name=\"ROC_AUC\"),\n",
        "            AUC(curve=\"PR\", name=\"AP\"),\n",
        "        ],\n",
        "    )\n",
        "\n",
        "\n",
        "model.fit(\n",
        "            X_train,\n",
        "            y_train,\n",
        "            epochs=10,\n",
        "            batch_size=128,\n",
        "            validation_split=0.2,\n",
        "            callbacks=[\n",
        "                EarlyStopping(monitor=\"val_loss\", patience=2),\n",
        "            ],\n",
        "            workers=2,\n",
        "            use_multiprocessing=True,\n",
        "        )\n",
        "\n",
        "test_loss, test_accuracy, test_ROC_AUC, test_recall = model.evaluate(X_test, y_test)\n",
        "\n",
        "run.log(\"loss\", test_loss)\n",
        "run.log(\"accuracy\", test_accuracy)\n",
        "run.log(\"Recall\", test_recall)\n",
        "run.log(\"ROC_AUC\", test_ROC_AUC)\n",
        "\n",
        "model_name = model_name + \".pkl\"\n",
        "filename = \"outputs/\" + model_name\n",
        "    \n",
        "joblib.dump(value=model, filename=filename)\n",
        "run.upload_file(name=model_name, path_or_stream=filename)\n",
        "run.complete()"
      ]
    },
    {
      "cell_type": "markdown",
      "metadata": {
        "nteract": {
          "transient": {
            "deleting": false
          }
        }
      },
      "source": [
        "## Affichage des métriques"
      ]
    },
    {
      "cell_type": "code",
      "execution_count": 35,
      "metadata": {
        "gather": {
          "logged": 1655140936203
        },
        "jupyter": {
          "outputs_hidden": false,
          "source_hidden": false
        },
        "nteract": {
          "transient": {
            "deleting": false
          }
        }
      },
      "outputs": [
        {
          "name": "stdout",
          "output_type": "stream",
          "text": [
            "9885/9885 [==============================] - 131s 13ms/step - loss: 0.3892 - accuracy: 0.8256 - ROC_AUC: 0.9071 - AP: 0.9074\b\b\b\b\b\b\b\b\b\b\b\b\b\b\b\b\b\b\b\b\b\b\b\b\b\b\b\b\b\b\b\b\b\b\b\b\b\b\b\b\b\b\b\b\b\b\b\b\b\b\b\b\b\b\b\b\b\b\b\b\b\b\b\b\b\b\b\b\b\b\b\b\b\b\b\b\b\b\b\b\b\b\b\b\b\b\b\b\b\b\b\b\b\b\b\b\b\b\b\b\b\b\b\b\b\b\b\b\b\b\b\b\b\b\n",
            "Loss : 0.38920295238494873\n",
            "Accuracy : 0.8255926370620728\n",
            "ROC_AUC : 0.9071202874183655\n",
            "Recall : 0.9074187278747559\n"
          ]
        }
      ],
      "source": [
        "test_loss, test_accuracy, test_ROC_AUC, test_recall = model.evaluate(X_test, y_test)\n",
        "\n",
        "print(f\"Loss : {test_loss}\")\n",
        "print(f\"Accuracy : {test_accuracy}\")\n",
        "print(f\"ROC_AUC : {test_ROC_AUC}\")\n",
        "print(f\"Recall : {test_recall}\")"
      ]
    },
    {
      "cell_type": "code",
      "execution_count": 37,
      "metadata": {
        "gather": {
          "logged": 1655147732116
        },
        "jupyter": {
          "outputs_hidden": false,
          "source_hidden": false
        },
        "nteract": {
          "transient": {
            "deleting": false
          }
        }
      },
      "outputs": [
        {
          "data": {
            "image/png": "[encoded data removed]",
            "text/plain": [
              "<Figure size 1728x576 with 4 Axes>"
            ]
          },
          "metadata": {
            "needs_background": "light"
          },
          "output_type": "display_data"
        }
      ],
      "source": [
        "from sklearn.metrics import (\n",
        "    ConfusionMatrixDisplay,\n",
        "    PrecisionRecallDisplay,\n",
        "    RocCurveDisplay,\n",
        ")\n",
        "\n",
        "y_test_pred_proba = model.predict(\n",
        "    X_test,\n",
        "    workers=2,\n",
        "    use_multiprocessing=True,\n",
        ")\n",
        "\n",
        "y_test_pred = [round(pred_proba[0]) for pred_proba in y_test_pred_proba]\n",
        "\n",
        "_, ax = plt.subplots(1,3,figsize=(24,8))\n",
        "\n",
        "ConfusionMatrixDisplay.from_predictions(y_test, y_test_pred, cmap='BuPu_r', ax=ax[0])\n",
        "PrecisionRecallDisplay.from_predictions(y_test, y_test_pred_proba, ax=ax[1])\n",
        "RocCurveDisplay.from_predictions(y_test, y_test_pred_proba, ax=ax[2])\n",
        "\n",
        "plt.show()"
      ]
    },
    {
      "cell_type": "markdown",
      "metadata": {
        "nteract": {
          "transient": {
            "deleting": false
          }
        }
      },
      "source": [
        "## Génération du lien vers le modèle enregistré"
      ]
    },
    {
      "cell_type": "code",
      "execution_count": 33,
      "metadata": {
        "gather": {
          "logged": 1655124425925
        },
        "jupyter": {
          "outputs_hidden": false,
          "source_hidden": false
        },
        "nteract": {
          "transient": {
            "deleting": false
          }
        }
      },
      "outputs": [
        {
          "data": {
            "text/html": [
              "<table style=\"width:100%\"><tr><th>Name</th><th>Workspace</th><th>Report Page</th><th>Docs Page</th></tr><tr><td>tweets-experiment</td><td>projet_7</td><td><a href=\"https://ml.azure.com/experiments/id/639e5b95-d8b3-4888-9fbc-c96b31462122?wsid=/subscriptions/6577bb7e-1fb9-4dc3-b50d-9a8b9e156a38/resourcegroups/openclassrooms/workspaces/projet_7&amp;tid=ebef3baf-7270-4736-a754-5659df0bbe23\" target=\"_blank\" rel=\"noopener\">Link to Azure Machine Learning studio</a></td><td><a href=\"https://docs.microsoft.com/en-us/python/api/azureml-core/azureml.core.experiment.Experiment?view=azure-ml-py\" target=\"_blank\" rel=\"noopener\">Link to Documentation</a></td></tr></table>"
            ],
            "text/plain": [
              "Experiment(Name: tweets-experiment,\n",
              "Workspace: projet_7)"
            ]
          },
          "execution_count": 33,
          "metadata": {},
          "output_type": "execute_result"
        }
      ],
      "source": [
        "experiment"
      ]
    }
  ],
  "metadata": {
    "kernel_info": {
      "name": "projet_7"
    },
    "kernelspec": {
      "display_name": "projet_7",
      "language": "python",
      "name": "projet_7"
    },
    "language_info": {
      "codemirror_mode": {
        "name": "ipython",
        "version": 3
      },
      "file_extension": ".py",
      "mimetype": "text/x-python",
      "name": "python",
      "nbconvert_exporter": "python",
      "pygments_lexer": "ipython3",
      "version": "3.8.13"
    },
    "microsoft": {
      "host": {
        "AzureML": {
          "notebookHasBeenCompleted": true
        }
      }
    },
    "nteract": {
      "version": "nteract-front-end@1.0.0"
    }
  },
  "nbformat": 4,
  "nbformat_minor": 2
}
